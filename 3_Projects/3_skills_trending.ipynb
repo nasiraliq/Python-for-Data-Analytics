{
 "cells": [
  {
   "cell_type": "code",
   "execution_count": 1,
   "metadata": {
    "_cell_guid": "b1076dfc-b9ad-4769-8c92-a6c4dae69d19",
    "_uuid": "8f2839f25d086af736a60e9eeb907d3b93b6e0e5",
    "execution": {
     "iopub.execute_input": "2024-11-05T13:32:45.998154Z",
     "iopub.status.busy": "2024-11-05T13:32:45.997608Z",
     "iopub.status.idle": "2024-11-05T13:33:07.475813Z",
     "shell.execute_reply": "2024-11-05T13:33:07.474479Z",
     "shell.execute_reply.started": "2024-11-05T13:32:45.998096Z"
    },
    "trusted": true
   },
   "outputs": [],
   "source": [
    "# Importing libraries\n",
    "import pandas as pd\n",
    "from datasets import load_dataset\n",
    "import pandas as pd\n",
    "import numpy as np\n",
    "import matplotlib.pyplot as plt\n",
    "import seaborn as sns\n",
    "import ast\n",
    "\n",
    "# setting plots theme\n",
    "sns.set_theme(style=\"ticks\")\n",
    "\n",
    "# loading data\n",
    "data = load_dataset(\"lukebarousse/data_jobs\")\n",
    "df = data[\"train\"].to_pandas()\n",
    "\n",
    "# cleaning data\n",
    "df[\"job_posted_date\"] = pd.to_datetime(df[\"job_posted_date\"])\n",
    "df[\"job_skills\"] = df[\"job_skills\"].apply(func=(lambda skills: ast.literal_eval(skills) if pd.notna(skills) else skills))"
   ]
  },
  {
   "cell_type": "markdown",
   "metadata": {},
   "source": [
    "# How are in-demand skills trending for Data Analysts?\n",
    "### Mythology\n",
    "1. Aggregate skills counts monthly\n",
    "2. Re-analyze based on percentage of total jobs\n",
    "3. Plot the monthly skill demand\n"
   ]
  },
  {
   "cell_type": "code",
   "execution_count": 2,
   "metadata": {
    "execution": {
     "iopub.execute_input": "2024-11-05T13:33:07.478066Z",
     "iopub.status.busy": "2024-11-05T13:33:07.477422Z",
     "iopub.status.idle": "2024-11-05T13:33:07.735116Z",
     "shell.execute_reply": "2024-11-05T13:33:07.733486Z",
     "shell.execute_reply.started": "2024-11-05T13:33:07.478019Z"
    },
    "trusted": true
   },
   "outputs": [],
   "source": [
    "# Filtering data for data analysts only\n",
    "df_DA = df[df[\"job_title_short\"].isin([\"Data Analyst\"])].copy()"
   ]
  },
  {
   "cell_type": "code",
   "execution_count": 3,
   "metadata": {
    "execution": {
     "iopub.execute_input": "2024-11-05T13:33:07.737241Z",
     "iopub.status.busy": "2024-11-05T13:33:07.736723Z",
     "iopub.status.idle": "2024-11-05T13:33:07.754807Z",
     "shell.execute_reply": "2024-11-05T13:33:07.753278Z",
     "shell.execute_reply.started": "2024-11-05T13:33:07.737185Z"
    },
    "trusted": true
   },
   "outputs": [],
   "source": [
    "# Adding job posting month columns \n",
    "df_DA[\"job_posted_month_no\"] = df_DA[\"job_posted_date\"].dt.month"
   ]
  },
  {
   "cell_type": "code",
   "execution_count": 4,
   "metadata": {
    "execution": {
     "iopub.execute_input": "2024-11-05T13:33:07.759623Z",
     "iopub.status.busy": "2024-11-05T13:33:07.759016Z",
     "iopub.status.idle": "2024-11-05T13:33:08.404636Z",
     "shell.execute_reply": "2024-11-05T13:33:08.403390Z",
     "shell.execute_reply.started": "2024-11-05T13:33:07.759552Z"
    },
    "trusted": true
   },
   "outputs": [],
   "source": [
    "# exploding data based on \"job_skills\"\n",
    "df_DA = df_DA.explode(column=\"job_skills\")"
   ]
  },
  {
   "cell_type": "code",
   "execution_count": 5,
   "metadata": {
    "execution": {
     "iopub.execute_input": "2024-11-05T13:33:08.406869Z",
     "iopub.status.busy": "2024-11-05T13:33:08.406341Z",
     "iopub.status.idle": "2024-11-05T13:33:08.436253Z",
     "shell.execute_reply": "2024-11-05T13:33:08.434922Z",
     "shell.execute_reply.started": "2024-11-05T13:33:08.406811Z"
    },
    "trusted": true
   },
   "outputs": [
    {
     "data": {
      "text/html": [
       "<div>\n",
       "<style scoped>\n",
       "    .dataframe tbody tr th:only-of-type {\n",
       "        vertical-align: middle;\n",
       "    }\n",
       "\n",
       "    .dataframe tbody tr th {\n",
       "        vertical-align: top;\n",
       "    }\n",
       "\n",
       "    .dataframe thead th {\n",
       "        text-align: right;\n",
       "    }\n",
       "</style>\n",
       "<table border=\"1\" class=\"dataframe\">\n",
       "  <thead>\n",
       "    <tr style=\"text-align: right;\">\n",
       "      <th></th>\n",
       "      <th>job_title_short</th>\n",
       "      <th>job_title</th>\n",
       "      <th>job_location</th>\n",
       "      <th>job_via</th>\n",
       "      <th>job_schedule_type</th>\n",
       "      <th>job_work_from_home</th>\n",
       "      <th>search_location</th>\n",
       "      <th>job_posted_date</th>\n",
       "      <th>job_no_degree_mention</th>\n",
       "      <th>job_health_insurance</th>\n",
       "      <th>job_country</th>\n",
       "      <th>salary_rate</th>\n",
       "      <th>salary_year_avg</th>\n",
       "      <th>salary_hour_avg</th>\n",
       "      <th>company_name</th>\n",
       "      <th>job_skills</th>\n",
       "      <th>job_type_skills</th>\n",
       "      <th>job_posted_month_no</th>\n",
       "    </tr>\n",
       "  </thead>\n",
       "  <tbody>\n",
       "    <tr>\n",
       "      <th>1</th>\n",
       "      <td>Data Analyst</td>\n",
       "      <td>Data Analyst</td>\n",
       "      <td>Guadalajara, Jalisco, Mexico</td>\n",
       "      <td>via BeBee México</td>\n",
       "      <td>Full-time</td>\n",
       "      <td>False</td>\n",
       "      <td>Mexico</td>\n",
       "      <td>2023-01-14 13:18:07</td>\n",
       "      <td>False</td>\n",
       "      <td>False</td>\n",
       "      <td>Mexico</td>\n",
       "      <td>None</td>\n",
       "      <td>NaN</td>\n",
       "      <td>NaN</td>\n",
       "      <td>Hewlett Packard Enterprise</td>\n",
       "      <td>r</td>\n",
       "      <td>{'analyst_tools': ['power bi', 'tableau'], 'pr...</td>\n",
       "      <td>1</td>\n",
       "    </tr>\n",
       "    <tr>\n",
       "      <th>1</th>\n",
       "      <td>Data Analyst</td>\n",
       "      <td>Data Analyst</td>\n",
       "      <td>Guadalajara, Jalisco, Mexico</td>\n",
       "      <td>via BeBee México</td>\n",
       "      <td>Full-time</td>\n",
       "      <td>False</td>\n",
       "      <td>Mexico</td>\n",
       "      <td>2023-01-14 13:18:07</td>\n",
       "      <td>False</td>\n",
       "      <td>False</td>\n",
       "      <td>Mexico</td>\n",
       "      <td>None</td>\n",
       "      <td>NaN</td>\n",
       "      <td>NaN</td>\n",
       "      <td>Hewlett Packard Enterprise</td>\n",
       "      <td>python</td>\n",
       "      <td>{'analyst_tools': ['power bi', 'tableau'], 'pr...</td>\n",
       "      <td>1</td>\n",
       "    </tr>\n",
       "    <tr>\n",
       "      <th>1</th>\n",
       "      <td>Data Analyst</td>\n",
       "      <td>Data Analyst</td>\n",
       "      <td>Guadalajara, Jalisco, Mexico</td>\n",
       "      <td>via BeBee México</td>\n",
       "      <td>Full-time</td>\n",
       "      <td>False</td>\n",
       "      <td>Mexico</td>\n",
       "      <td>2023-01-14 13:18:07</td>\n",
       "      <td>False</td>\n",
       "      <td>False</td>\n",
       "      <td>Mexico</td>\n",
       "      <td>None</td>\n",
       "      <td>NaN</td>\n",
       "      <td>NaN</td>\n",
       "      <td>Hewlett Packard Enterprise</td>\n",
       "      <td>sql</td>\n",
       "      <td>{'analyst_tools': ['power bi', 'tableau'], 'pr...</td>\n",
       "      <td>1</td>\n",
       "    </tr>\n",
       "    <tr>\n",
       "      <th>1</th>\n",
       "      <td>Data Analyst</td>\n",
       "      <td>Data Analyst</td>\n",
       "      <td>Guadalajara, Jalisco, Mexico</td>\n",
       "      <td>via BeBee México</td>\n",
       "      <td>Full-time</td>\n",
       "      <td>False</td>\n",
       "      <td>Mexico</td>\n",
       "      <td>2023-01-14 13:18:07</td>\n",
       "      <td>False</td>\n",
       "      <td>False</td>\n",
       "      <td>Mexico</td>\n",
       "      <td>None</td>\n",
       "      <td>NaN</td>\n",
       "      <td>NaN</td>\n",
       "      <td>Hewlett Packard Enterprise</td>\n",
       "      <td>nosql</td>\n",
       "      <td>{'analyst_tools': ['power bi', 'tableau'], 'pr...</td>\n",
       "      <td>1</td>\n",
       "    </tr>\n",
       "    <tr>\n",
       "      <th>1</th>\n",
       "      <td>Data Analyst</td>\n",
       "      <td>Data Analyst</td>\n",
       "      <td>Guadalajara, Jalisco, Mexico</td>\n",
       "      <td>via BeBee México</td>\n",
       "      <td>Full-time</td>\n",
       "      <td>False</td>\n",
       "      <td>Mexico</td>\n",
       "      <td>2023-01-14 13:18:07</td>\n",
       "      <td>False</td>\n",
       "      <td>False</td>\n",
       "      <td>Mexico</td>\n",
       "      <td>None</td>\n",
       "      <td>NaN</td>\n",
       "      <td>NaN</td>\n",
       "      <td>Hewlett Packard Enterprise</td>\n",
       "      <td>power bi</td>\n",
       "      <td>{'analyst_tools': ['power bi', 'tableau'], 'pr...</td>\n",
       "      <td>1</td>\n",
       "    </tr>\n",
       "  </tbody>\n",
       "</table>\n",
       "</div>"
      ],
      "text/plain": [
       "  job_title_short     job_title                  job_location  \\\n",
       "1    Data Analyst  Data Analyst  Guadalajara, Jalisco, Mexico   \n",
       "1    Data Analyst  Data Analyst  Guadalajara, Jalisco, Mexico   \n",
       "1    Data Analyst  Data Analyst  Guadalajara, Jalisco, Mexico   \n",
       "1    Data Analyst  Data Analyst  Guadalajara, Jalisco, Mexico   \n",
       "1    Data Analyst  Data Analyst  Guadalajara, Jalisco, Mexico   \n",
       "\n",
       "            job_via job_schedule_type  job_work_from_home search_location  \\\n",
       "1  via BeBee México         Full-time               False          Mexico   \n",
       "1  via BeBee México         Full-time               False          Mexico   \n",
       "1  via BeBee México         Full-time               False          Mexico   \n",
       "1  via BeBee México         Full-time               False          Mexico   \n",
       "1  via BeBee México         Full-time               False          Mexico   \n",
       "\n",
       "      job_posted_date  job_no_degree_mention  job_health_insurance  \\\n",
       "1 2023-01-14 13:18:07                  False                 False   \n",
       "1 2023-01-14 13:18:07                  False                 False   \n",
       "1 2023-01-14 13:18:07                  False                 False   \n",
       "1 2023-01-14 13:18:07                  False                 False   \n",
       "1 2023-01-14 13:18:07                  False                 False   \n",
       "\n",
       "  job_country salary_rate  salary_year_avg  salary_hour_avg  \\\n",
       "1      Mexico        None              NaN              NaN   \n",
       "1      Mexico        None              NaN              NaN   \n",
       "1      Mexico        None              NaN              NaN   \n",
       "1      Mexico        None              NaN              NaN   \n",
       "1      Mexico        None              NaN              NaN   \n",
       "\n",
       "                 company_name job_skills  \\\n",
       "1  Hewlett Packard Enterprise          r   \n",
       "1  Hewlett Packard Enterprise     python   \n",
       "1  Hewlett Packard Enterprise        sql   \n",
       "1  Hewlett Packard Enterprise      nosql   \n",
       "1  Hewlett Packard Enterprise   power bi   \n",
       "\n",
       "                                     job_type_skills  job_posted_month_no  \n",
       "1  {'analyst_tools': ['power bi', 'tableau'], 'pr...                    1  \n",
       "1  {'analyst_tools': ['power bi', 'tableau'], 'pr...                    1  \n",
       "1  {'analyst_tools': ['power bi', 'tableau'], 'pr...                    1  \n",
       "1  {'analyst_tools': ['power bi', 'tableau'], 'pr...                    1  \n",
       "1  {'analyst_tools': ['power bi', 'tableau'], 'pr...                    1  "
      ]
     },
     "execution_count": 5,
     "metadata": {},
     "output_type": "execute_result"
    }
   ],
   "source": [
    "df_DA.head()"
   ]
  },
  {
   "cell_type": "code",
   "execution_count": 6,
   "metadata": {
    "execution": {
     "iopub.execute_input": "2024-11-05T13:33:08.438433Z",
     "iopub.status.busy": "2024-11-05T13:33:08.437918Z",
     "iopub.status.idle": "2024-11-05T13:33:08.651347Z",
     "shell.execute_reply": "2024-11-05T13:33:08.650030Z",
     "shell.execute_reply.started": "2024-11-05T13:33:08.438355Z"
    },
    "trusted": true
   },
   "outputs": [],
   "source": [
    "# applying pivot table on \"job_posted_month_no\" as index, and job_skills as columns and method is size/count\n",
    "df_DA_pv = df_DA.pivot_table(index=\"job_posted_month_no\", columns=\"job_skills\", aggfunc=\"size\", fill_value=0)"
   ]
  },
  {
   "cell_type": "code",
   "execution_count": 7,
   "metadata": {
    "execution": {
     "iopub.execute_input": "2024-11-05T13:33:08.653565Z",
     "iopub.status.busy": "2024-11-05T13:33:08.653007Z",
     "iopub.status.idle": "2024-11-05T13:33:08.662926Z",
     "shell.execute_reply": "2024-11-05T13:33:08.661493Z",
     "shell.execute_reply.started": "2024-11-05T13:33:08.653501Z"
    },
    "trusted": true
   },
   "outputs": [],
   "source": [
    "# adding a row and placing total count of each skills in it\n",
    "df_DA_pv.loc[\"total\"] = df_DA_pv.sum()"
   ]
  },
  {
   "cell_type": "code",
   "execution_count": 8,
   "metadata": {
    "execution": {
     "iopub.execute_input": "2024-11-05T13:33:08.664882Z",
     "iopub.status.busy": "2024-11-05T13:33:08.664389Z",
     "iopub.status.idle": "2024-11-05T13:33:08.678767Z",
     "shell.execute_reply": "2024-11-05T13:33:08.677458Z",
     "shell.execute_reply.started": "2024-11-05T13:33:08.664821Z"
    },
    "trusted": true
   },
   "outputs": [],
   "source": [
    "# Sorting values by total\n",
    "df_DA_pv = df_DA_pv.sort_values(by=\"total\", axis=1, ascending=False)"
   ]
  },
  {
   "cell_type": "code",
   "execution_count": 9,
   "metadata": {
    "execution": {
     "iopub.execute_input": "2024-11-05T13:33:08.680875Z",
     "iopub.status.busy": "2024-11-05T13:33:08.680451Z",
     "iopub.status.idle": "2024-11-05T13:33:08.692816Z",
     "shell.execute_reply": "2024-11-05T13:33:08.691428Z",
     "shell.execute_reply.started": "2024-11-05T13:33:08.680830Z"
    },
    "trusted": true
   },
   "outputs": [],
   "source": [
    "# dropping total row\n",
    "df_DA_pv.drop(labels=\"total\", axis=0, inplace=True)"
   ]
  },
  {
   "cell_type": "code",
   "execution_count": 10,
   "metadata": {
    "execution": {
     "iopub.execute_input": "2024-11-05T13:33:08.694829Z",
     "iopub.status.busy": "2024-11-05T13:33:08.694409Z",
     "iopub.status.idle": "2024-11-05T13:33:08.711843Z",
     "shell.execute_reply": "2024-11-05T13:33:08.710419Z",
     "shell.execute_reply.started": "2024-11-05T13:33:08.694787Z"
    },
    "trusted": true
   },
   "outputs": [],
   "source": [
    "DA_totals = df_DA[\"job_posted_month_no\"].value_counts().sort_index()"
   ]
  },
  {
   "cell_type": "code",
   "execution_count": 11,
   "metadata": {
    "execution": {
     "iopub.execute_input": "2024-11-05T13:33:08.714074Z",
     "iopub.status.busy": "2024-11-05T13:33:08.713558Z",
     "iopub.status.idle": "2024-11-05T13:33:08.726440Z",
     "shell.execute_reply": "2024-11-05T13:33:08.725409Z",
     "shell.execute_reply.started": "2024-11-05T13:33:08.714016Z"
    },
    "trusted": true
   },
   "outputs": [],
   "source": [
    "# Finding percentage of skills\n",
    "df_DA_pv_percent = df_DA_pv.div(DA_totals/100, axis=0)"
   ]
  },
  {
   "cell_type": "code",
   "execution_count": 12,
   "metadata": {
    "execution": {
     "iopub.execute_input": "2024-11-05T13:33:08.728152Z",
     "iopub.status.busy": "2024-11-05T13:33:08.727774Z",
     "iopub.status.idle": "2024-11-05T13:33:08.744681Z",
     "shell.execute_reply": "2024-11-05T13:33:08.743264Z",
     "shell.execute_reply.started": "2024-11-05T13:33:08.728112Z"
    },
    "trusted": true
   },
   "outputs": [],
   "source": [
    "# Selecting only top 5 skills\n",
    "df_plot = df_DA_pv_percent.iloc[:,:5]"
   ]
  },
  {
   "cell_type": "code",
   "execution_count": 13,
   "metadata": {
    "execution": {
     "iopub.execute_input": "2024-11-05T13:33:08.750006Z",
     "iopub.status.busy": "2024-11-05T13:33:08.749602Z",
     "iopub.status.idle": "2024-11-05T13:33:08.759994Z",
     "shell.execute_reply": "2024-11-05T13:33:08.758720Z",
     "shell.execute_reply.started": "2024-11-05T13:33:08.749968Z"
    },
    "trusted": true
   },
   "outputs": [],
   "source": [
    "months = {\n",
    "    1: \"Jan\", 2: \"Feb\", 3: \"Mar\", 4: \"Apr\", 5: \"May\", 6: \"Jun\", \n",
    "    7: \"Jul\", 8: \"Aug\", 9: \"Sep\", 10: \"Oct\", 11: \"Nov\",12: \"Dec\"\n",
    "}\n",
    "df_plot.index = df_plot.index.map(months)"
   ]
  },
  {
   "cell_type": "code",
   "execution_count": 14,
   "metadata": {
    "execution": {
     "iopub.execute_input": "2024-11-05T13:33:08.762312Z",
     "iopub.status.busy": "2024-11-05T13:33:08.761734Z",
     "iopub.status.idle": "2024-11-05T13:33:08.784132Z",
     "shell.execute_reply": "2024-11-05T13:33:08.782742Z",
     "shell.execute_reply.started": "2024-11-05T13:33:08.762254Z"
    },
    "trusted": true
   },
   "outputs": [
    {
     "data": {
      "text/html": [
       "<div>\n",
       "<style scoped>\n",
       "    .dataframe tbody tr th:only-of-type {\n",
       "        vertical-align: middle;\n",
       "    }\n",
       "\n",
       "    .dataframe tbody tr th {\n",
       "        vertical-align: top;\n",
       "    }\n",
       "\n",
       "    .dataframe thead th {\n",
       "        text-align: right;\n",
       "    }\n",
       "</style>\n",
       "<table border=\"1\" class=\"dataframe\">\n",
       "  <thead>\n",
       "    <tr style=\"text-align: right;\">\n",
       "      <th>job_skills</th>\n",
       "      <th>sql</th>\n",
       "      <th>excel</th>\n",
       "      <th>python</th>\n",
       "      <th>tableau</th>\n",
       "      <th>power bi</th>\n",
       "    </tr>\n",
       "    <tr>\n",
       "      <th>job_posted_month_no</th>\n",
       "      <th></th>\n",
       "      <th></th>\n",
       "      <th></th>\n",
       "      <th></th>\n",
       "      <th></th>\n",
       "    </tr>\n",
       "  </thead>\n",
       "  <tbody>\n",
       "    <tr>\n",
       "      <th>Jan</th>\n",
       "      <td>13.858868</td>\n",
       "      <td>9.988263</td>\n",
       "      <td>8.076190</td>\n",
       "      <td>6.841410</td>\n",
       "      <td>5.238642</td>\n",
       "    </tr>\n",
       "    <tr>\n",
       "      <th>Feb</th>\n",
       "      <td>13.783953</td>\n",
       "      <td>10.011448</td>\n",
       "      <td>8.240538</td>\n",
       "      <td>6.826933</td>\n",
       "      <td>5.735942</td>\n",
       "    </tr>\n",
       "    <tr>\n",
       "      <th>Mar</th>\n",
       "      <td>13.865294</td>\n",
       "      <td>10.000705</td>\n",
       "      <td>8.354774</td>\n",
       "      <td>7.138829</td>\n",
       "      <td>5.596870</td>\n",
       "    </tr>\n",
       "    <tr>\n",
       "      <th>Apr</th>\n",
       "      <td>13.813347</td>\n",
       "      <td>10.051391</td>\n",
       "      <td>8.334095</td>\n",
       "      <td>6.905759</td>\n",
       "      <td>5.680426</td>\n",
       "    </tr>\n",
       "    <tr>\n",
       "      <th>May</th>\n",
       "      <td>14.074531</td>\n",
       "      <td>10.152295</td>\n",
       "      <td>8.656996</td>\n",
       "      <td>6.902199</td>\n",
       "      <td>5.732335</td>\n",
       "    </tr>\n",
       "    <tr>\n",
       "      <th>Jun</th>\n",
       "      <td>13.673734</td>\n",
       "      <td>10.320208</td>\n",
       "      <td>8.486586</td>\n",
       "      <td>6.872927</td>\n",
       "      <td>5.904731</td>\n",
       "    </tr>\n",
       "    <tr>\n",
       "      <th>Jul</th>\n",
       "      <td>13.750604</td>\n",
       "      <td>9.861725</td>\n",
       "      <td>8.641754</td>\n",
       "      <td>7.026457</td>\n",
       "      <td>5.992523</td>\n",
       "    </tr>\n",
       "    <tr>\n",
       "      <th>Aug</th>\n",
       "      <td>13.595390</td>\n",
       "      <td>9.988135</td>\n",
       "      <td>8.592077</td>\n",
       "      <td>6.984915</td>\n",
       "      <td>5.946346</td>\n",
       "    </tr>\n",
       "    <tr>\n",
       "      <th>Sep</th>\n",
       "      <td>13.652812</td>\n",
       "      <td>9.768288</td>\n",
       "      <td>8.454787</td>\n",
       "      <td>6.889382</td>\n",
       "      <td>6.233631</td>\n",
       "    </tr>\n",
       "    <tr>\n",
       "      <th>Oct</th>\n",
       "      <td>13.772643</td>\n",
       "      <td>9.613577</td>\n",
       "      <td>8.647981</td>\n",
       "      <td>6.834725</td>\n",
       "      <td>6.154753</td>\n",
       "    </tr>\n",
       "    <tr>\n",
       "      <th>Nov</th>\n",
       "      <td>13.683020</td>\n",
       "      <td>9.824128</td>\n",
       "      <td>8.707189</td>\n",
       "      <td>6.755117</td>\n",
       "      <td>6.195619</td>\n",
       "    </tr>\n",
       "    <tr>\n",
       "      <th>Dec</th>\n",
       "      <td>13.326294</td>\n",
       "      <td>9.626257</td>\n",
       "      <td>9.230295</td>\n",
       "      <td>6.905123</td>\n",
       "      <td>6.284784</td>\n",
       "    </tr>\n",
       "  </tbody>\n",
       "</table>\n",
       "</div>"
      ],
      "text/plain": [
       "job_skills                 sql      excel    python   tableau  power bi\n",
       "job_posted_month_no                                                    \n",
       "Jan                  13.858868   9.988263  8.076190  6.841410  5.238642\n",
       "Feb                  13.783953  10.011448  8.240538  6.826933  5.735942\n",
       "Mar                  13.865294  10.000705  8.354774  7.138829  5.596870\n",
       "Apr                  13.813347  10.051391  8.334095  6.905759  5.680426\n",
       "May                  14.074531  10.152295  8.656996  6.902199  5.732335\n",
       "Jun                  13.673734  10.320208  8.486586  6.872927  5.904731\n",
       "Jul                  13.750604   9.861725  8.641754  7.026457  5.992523\n",
       "Aug                  13.595390   9.988135  8.592077  6.984915  5.946346\n",
       "Sep                  13.652812   9.768288  8.454787  6.889382  6.233631\n",
       "Oct                  13.772643   9.613577  8.647981  6.834725  6.154753\n",
       "Nov                  13.683020   9.824128  8.707189  6.755117  6.195619\n",
       "Dec                  13.326294   9.626257  9.230295  6.905123  6.284784"
      ]
     },
     "execution_count": 14,
     "metadata": {},
     "output_type": "execute_result"
    }
   ],
   "source": [
    "df_plot"
   ]
  },
  {
   "cell_type": "code",
   "execution_count": null,
   "metadata": {
    "execution": {
     "iopub.execute_input": "2024-11-05T13:33:08.786258Z",
     "iopub.status.busy": "2024-11-05T13:33:08.785817Z",
     "iopub.status.idle": "2024-11-05T13:33:09.280211Z",
     "shell.execute_reply": "2024-11-05T13:33:09.278688Z",
     "shell.execute_reply.started": "2024-11-05T13:33:08.786215Z"
    },
    "trusted": true
   },
   "outputs": [
    {
     "name": "stderr",
     "output_type": "stream",
     "text": [
      "/opt/conda/lib/python3.10/site-packages/seaborn/_oldcore.py:1119: FutureWarning: use_inf_as_na option is deprecated and will be removed in a future version. Convert inf values to NaN before operating instead.\n",
      "  with pd.option_context('mode.use_inf_as_na', True):\n",
      "/opt/conda/lib/python3.10/site-packages/seaborn/_oldcore.py:1119: FutureWarning: use_inf_as_na option is deprecated and will be removed in a future version. Convert inf values to NaN before operating instead.\n",
      "  with pd.option_context('mode.use_inf_as_na', True):\n",
      "/tmp/ipykernel_579/4245987066.py:13: FutureWarning: Series.__getitem__ treating keys as positions is deprecated. In a future version, integer keys will always be treated as labels (consistent with DataFrame behavior). To access a value by position, use `ser.iloc[pos]`\n",
      "  ax.text(12, df_plot.iloc[-1][i], df_plot.iloc[-1].index[i])\n"
     ]
    },
    {
     "data": {
      "image/png": "[encoded data removed]",
      "text/plain": [
       "<Figure size 640x480 with 1 Axes>"
      ]
     },
     "metadata": {},
     "output_type": "display_data"
    }
   ],
   "source": [
    "fig, ax = plt.subplots()\n",
    "sns.lineplot(data=df_plot, dashes=False, palette=\"tab10\", ax=ax)\n",
    "sns.despine()\n",
    "ax.set_title(\"Top Trending Skills for Data Analysts Worldwide \")\n",
    "ax.set_ylabel(\"Likely\")\n",
    "ax.set_xlabel(\"\")\n",
    "ax.yaxis.set_major_formatter(lambda x,pos:f\"{x}%\")\n",
    "# ax.xaxis.set_major_formatter(lambda x,pos: months[int(x)])\n",
    "# ax.set_xlim(0,15)\n",
    "ax.legend().remove()\n",
    "for i in range(5):\n",
    "    ax.text(12, df_plot.iloc[-1][i], df_plot.iloc[-1].index[i])\n",
    "fig.tight_layout()\n",
    "plt.show()"
   ]
  }
 ],
 "metadata": {
  "kaggle": {
   "accelerator": "none",
   "dataSources": [],
   "dockerImageVersionId": 30786,
   "isGpuEnabled": false,
   "isInternetEnabled": true,
   "language": "python",
   "sourceType": "notebook"
  },
  "kernelspec": {
   "display_name": "Python 3",
   "language": "python",
   "name": "python3"
  },
  "language_info": {
   "codemirror_mode": {
    "name": "ipython",
    "version": 3
   },
   "file_extension": ".py",
   "mimetype": "text/x-python",
   "name": "python",
   "nbconvert_exporter": "python",
   "pygments_lexer": "ipython3",
   "version": "3.10.14"
  }
 },
 "nbformat": 4,
 "nbformat_minor": 4
}
