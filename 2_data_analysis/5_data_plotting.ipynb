{
 "cells": [
  {
   "cell_type": "code",
   "execution_count": 3,
   "metadata": {},
   "outputs": [],
   "source": [
    "import pandas as pd\n",
    "import matplotlib.pyplot as plt"
   ]
  },
  {
   "cell_type": "code",
   "execution_count": 4,
   "metadata": {},
   "outputs": [
    {
     "data": {
      "text/plain": [
       "0         2023-06-16 13:44:15\n",
       "1         2023-01-14 13:18:07\n",
       "2         2023-10-10 13:14:55\n",
       "3         2023-07-04 13:01:41\n",
       "4         2023-08-07 14:29:36\n",
       "                 ...         \n",
       "785736    2023-03-13 06:16:16\n",
       "785737    2023-03-12 06:18:18\n",
       "785738    2023-03-12 06:32:36\n",
       "785739    2023-03-12 06:32:15\n",
       "785740    2023-03-13 06:16:31\n",
       "Name: job_posted_date, Length: 785741, dtype: object"
      ]
     },
     "execution_count": 4,
     "metadata": {},
     "output_type": "execute_result"
    }
   ],
   "source": [
    "df = pd.read_csv(\"data/data_jobs.csv\")"
   ]
  },
  {
   "cell_type": "code",
   "execution_count": 5,
   "metadata": {},
   "outputs": [],
   "source": [
    "df[\"job_posted_date\"] = pd.to_datetime(df[\"job_posted_date\"])"
   ]
  },
  {
   "cell_type": "code",
   "execution_count": 6,
   "metadata": {},
   "outputs": [],
   "source": [
    "df.sort_values(by=\"job_posted_date\", ascending=True, inplace=True)"
   ]
  },
  {
   "cell_type": "code",
   "execution_count": 9,
   "metadata": {},
   "outputs": [],
   "source": [
    "df[\"job_posted_day_of_year\"] = df[\"job_posted_date\"].dt.day_of_year"
   ]
  },
  {
   "cell_type": "code",
   "execution_count": 11,
   "metadata": {},
   "outputs": [
    {
     "data": {
      "text/plain": [
       "108804      1\n",
       "96906       1\n",
       "98438       1\n",
       "110290      1\n",
       "72158       1\n",
       "         ... \n",
       "362129    365\n",
       "351830    365\n",
       "327439    365\n",
       "112373    365\n",
       "90102     365\n",
       "Name: job_posted_day_of_year, Length: 785741, dtype: int32"
      ]
     },
     "execution_count": 11,
     "metadata": {},
     "output_type": "execute_result"
    }
   ],
   "source": [
    "df[\"job_posted_day_of_year\"]"
   ]
  }
 ],
 "metadata": {
  "kernelspec": {
   "display_name": "env_Bilingual",
   "language": "python",
   "name": "python3"
  },
  "language_info": {
   "codemirror_mode": {
    "name": "ipython",
    "version": 3
   },
   "file_extension": ".py",
   "mimetype": "text/x-python",
   "name": "python",
   "nbconvert_exporter": "python",
   "pygments_lexer": "ipython3",
   "version": "3.11.10"
  }
 },
 "nbformat": 4,
 "nbformat_minor": 2
}
