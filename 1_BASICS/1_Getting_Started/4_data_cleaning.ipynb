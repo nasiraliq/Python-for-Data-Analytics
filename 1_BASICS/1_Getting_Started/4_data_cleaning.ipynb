{
 "cells": [
  {
   "cell_type": "code",
   "execution_count": 2,
   "metadata": {},
   "outputs": [],
   "source": [
    "job_roles = [\n",
    "    {\n",
    "        \"job_title\": \"Data Scientist\",\n",
    "        \"job_skill\": '[\"Python\", \"R\", \"SQL\", \"Machine Learning\", \"Data Visualization\", \"Statistical Analysis\", \"Big Data tools (Hadoop, Spark)\"]',\n",
    "        \"job_date\": \"2024-09-25\"\n",
    "    },\n",
    "    {\n",
    "        \"job_title\": \"Machine Learning Engineer\",\n",
    "        \"job_skill\": '[\"Python\", \"TensorFlow\", \"PyTorch\", \"Deep Learning\", \"Model Deployment\", \"Cloud Services (AWS, GCP, Azure)\", \"Algorithm Design\"]',\n",
    "        \"job_date\": \"2024-08-15\"\n",
    "    },\n",
    "    {\n",
    "        \"job_title\": \"Data Engineer\",\n",
    "        \"job_skill\": '[\"SQL\", \"ETL Pipelines\", \"Python\", \"Big Data Technologies (Hadoop, Spark)\", \"Data Warehousing\", \"Cloud Platforms (AWS, GCP)\", \"Database Management (MySQL, PostgreSQL)\"]',\n",
    "        \"job_date\": \"2024-07-10\"\n",
    "    },\n",
    "    {\n",
    "        \"job_title\": \"AI Research Scientist\",\n",
    "        \"job_skill\": '[\"Python\", \"Deep Learning\", \"Reinforcement Learning\", \"Natural Language Processing\", \"TensorFlow\", \"PyTorch\", \"Academic Research\", \"Mathematics\"]',\n",
    "        \"job_date\": \"2024-06-01\"\n",
    "    },\n",
    "    {\n",
    "        \"job_title\": \"Business Intelligence Analyst\",\n",
    "        \"job_skill\": '[\"SQL\", \"Data Visualization (Tableau, Power BI)\", \"Data Analysis\", \"Excel\", \"Python (or R)\", \"Business Strategy\", \"Reporting Tools\"]',\n",
    "        \"job_date\": \"2024-05-20\"\n",
    "    },\n",
    "    {\n",
    "        \"job_title\": \"Data Analyst\",\n",
    "        \"job_skill\": '[\"Excel\", \"Python\", \"SQL\", \"Data Visualization (Tableau, Power BI)\", \"Statistical Analysis\", \"Data Cleaning\", \"Reporting\"]',\n",
    "        \"job_date\": \"2024-05-15\"\n",
    "    },\n",
    "    {\n",
    "        \"job_title\": \"DevOps Engineer (Machine Learning Focus)\",\n",
    "        \"job_skill\": '[\"CI/CD\", \"Containerization (Docker, Kubernetes)\", \"Cloud Services (AWS, GCP)\", \"Model Deployment\", \"Python\", \"Infrastructure as Code (Terraform, Ansible)\"]',\n",
    "        \"job_date\": \"2024-04-22\"\n",
    "    },\n",
    "    {\n",
    "        \"job_title\": \"AI Product Manager\",\n",
    "        \"job_skill\": '[\"Project Management\", \"Machine Learning Concepts\", \"Data-Driven Decision Making\", \"Stakeholder Communication\", \"Product Roadmap Design\", \"Python (basic understanding)\", \"Agile Methodology\"]',\n",
    "        \"job_date\": \"2024-03-18\"\n",
    "    },\n",
    "    {\n",
    "        \"job_title\": \"Natural Language Processing (NLP) Engineer\",\n",
    "        \"job_skill\": '[\"Python\", \"NLP Libraries (spaCy, NLTK)\", \"Deep Learning (RNNs, Transformers)\", \"Text Preprocessing\", \"Data Wrangling\", \"Language Modeling\"]',\n",
    "        \"job_date\": \"2024-02-28\"\n",
    "    },\n",
    "    {\n",
    "        \"job_title\": \"Data Architect\",\n",
    "        \"job_skill\": '[\"Database Design\", \"Cloud Data Solutions (AWS, GCP)\", \"SQL\", \"Data Security\", \"Data Modeling\", \"Big Data Tools (Hadoop, Spark)\", \"ETL Processes\"]',\n",
    "        \"job_date\": \"2024-01-12\"\n",
    "    }\n",
    "]\n"
   ]
  },
  {
   "cell_type": "code",
   "execution_count": 26,
   "metadata": {},
   "outputs": [
    {
     "data": {
      "text/plain": [
       "datetime.date(2024, 9, 25)"
      ]
     },
     "execution_count": 26,
     "metadata": {},
     "output_type": "execute_result"
    }
   ],
   "source": [
    "from datetime import datetime\n",
    "import ast\n",
    "job_roles[0][\"job_date\"]\n",
    "datetime.strptime(job_roles[0][\"job_date\"], \"%Y-%m-%d\").date()"
   ]
  },
  {
   "cell_type": "code",
   "execution_count": 33,
   "metadata": {},
   "outputs": [],
   "source": [
    "for job_role in job_roles:\n",
    "    job_role[\"job_skill\"] = ast.literal_eval(job_role[\"job_skill\"])\n",
    "    job_role[\"job_date\"] = datetime.strptime(job_role[\"job_date\"],\"%Y-%m-%d\").date()"
   ]
  },
  {
   "cell_type": "code",
   "execution_count": 37,
   "metadata": {},
   "outputs": [
    {
     "name": "stdout",
     "output_type": "stream",
     "text": [
      "{'job_title': 'Data Scientist', 'job_skill': ['Python', 'R', 'SQL', 'Machine Learning', 'Data Visualization', 'Statistical Analysis', 'Big Data tools (Hadoop, Spark)'], 'job_date': datetime.date(2024, 9, 25)}\n"
     ]
    }
   ],
   "source": [
    "print(job_roles[0])"
   ]
  },
  {
   "cell_type": "code",
   "execution_count": 40,
   "metadata": {},
   "outputs": [],
   "source": [
    "\n",
    "# !pip list"
   ]
  },
  {
   "cell_type": "code",
   "execution_count": 41,
   "metadata": {},
   "outputs": [
    {
     "name": "stdout",
     "output_type": "stream",
     "text": [
      "Collecting pyjokes\n",
      "  Downloading pyjokes-0.8.3-py3-none-any.whl.metadata (3.4 kB)\n",
      "Downloading pyjokes-0.8.3-py3-none-any.whl (47 kB)\n",
      "Installing collected packages: pyjokes\n",
      "Successfully installed pyjokes-0.8.3\n"
     ]
    }
   ],
   "source": [
    "# !pip install pyjokes"
   ]
  },
  {
   "cell_type": "code",
   "execution_count": null,
   "metadata": {},
   "outputs": [],
   "source": []
  }
 ],
 "metadata": {
  "kernelspec": {
   "display_name": "env_Bilingual",
   "language": "python",
   "name": "python3"
  },
  "language_info": {
   "codemirror_mode": {
    "name": "ipython",
    "version": 3
   },
   "file_extension": ".py",
   "mimetype": "text/x-python",
   "name": "python",
   "nbconvert_exporter": "python",
   "pygments_lexer": "ipython3",
   "version": "3.11.10"
  }
 },
 "nbformat": 4,
 "nbformat_minor": 2
}
