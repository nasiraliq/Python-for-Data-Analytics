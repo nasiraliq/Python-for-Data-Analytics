{
 "cells": [
  {
   "cell_type": "code",
   "execution_count": 33,
   "metadata": {},
   "outputs": [
    {
     "data": {
      "text/plain": [
       "'Doto Analyst'"
      ]
     },
     "execution_count": 33,
     "metadata": {},
     "output_type": "execute_result"
    }
   ],
   "source": [
    "\"Data Analyst\".replace(\"a\",\"o\",2)"
   ]
  },
  {
   "cell_type": "code",
   "execution_count": 34,
   "metadata": {},
   "outputs": [
    {
     "data": {
      "text/plain": [
       "'role: Data Analyst'"
      ]
     },
     "execution_count": 34,
     "metadata": {},
     "output_type": "execute_result"
    }
   ],
   "source": [
    "role = \"Data Analyst\"\n",
    "\"role: %s\" %(role)"
   ]
  },
  {
   "cell_type": "code",
   "execution_count": 35,
   "metadata": {},
   "outputs": [
    {
     "data": {
      "text/plain": [
       "'0, 1, 2, 3, 4, 5, 6, 7, 8, 9'"
      ]
     },
     "execution_count": 35,
     "metadata": {},
     "output_type": "execute_result"
    }
   ],
   "source": [
    "years_experience = \"0123456789\"\n",
    "\", \".join(years_experience)"
   ]
  },
  {
   "cell_type": "code",
   "execution_count": 36,
   "metadata": {},
   "outputs": [],
   "source": [
    "skills = [\"Python\", \"SQL\", \"Tableau\", \"AWS\"]"
   ]
  },
  {
   "cell_type": "code",
   "execution_count": 37,
   "metadata": {},
   "outputs": [],
   "source": [
    "concerned_skilled, *unconcerned_skills = skills"
   ]
  },
  {
   "cell_type": "code",
   "execution_count": 38,
   "metadata": {},
   "outputs": [
    {
     "data": {
      "text/plain": [
       "'Python'"
      ]
     },
     "execution_count": 38,
     "metadata": {},
     "output_type": "execute_result"
    }
   ],
   "source": [
    "concerned_skilled"
   ]
  },
  {
   "cell_type": "code",
   "execution_count": 39,
   "metadata": {},
   "outputs": [
    {
     "data": {
      "text/plain": [
       "['SQL', 'Tableau', 'AWS']"
      ]
     },
     "execution_count": 39,
     "metadata": {},
     "output_type": "execute_result"
    }
   ],
   "source": [
    "unconcerned_skills"
   ]
  },
  {
   "cell_type": "code",
   "execution_count": 40,
   "metadata": {},
   "outputs": [],
   "source": [
    "class JobPost:\n",
    "    def __init__(self, title, location, salary):\n",
    "        self.title = title\n",
    "        self.location = location\n",
    "        self.salary = salary\n",
    "    def printInfo(self):\n",
    "        print(f\"TITLE: {self.title}\\nLOCATION: {self.location}\\nSALARY: {self.salary}\")"
   ]
  },
  {
   "cell_type": "code",
   "execution_count": 41,
   "metadata": {},
   "outputs": [],
   "source": [
    "job_title = \"Data Scientist\"\n",
    "job_location = \"Sukkur\"\n",
    "job_salary = 120000"
   ]
  },
  {
   "cell_type": "code",
   "execution_count": 42,
   "metadata": {},
   "outputs": [],
   "source": [
    "job_1 = JobPost(title=job_title, location=job_location, salary=job_salary)"
   ]
  },
  {
   "cell_type": "code",
   "execution_count": 43,
   "metadata": {},
   "outputs": [
    {
     "data": {
      "text/plain": [
       "'Sukkur'"
      ]
     },
     "execution_count": 43,
     "metadata": {},
     "output_type": "execute_result"
    }
   ],
   "source": [
    "job_1.location"
   ]
  },
  {
   "cell_type": "code",
   "execution_count": 44,
   "metadata": {},
   "outputs": [
    {
     "name": "stdout",
     "output_type": "stream",
     "text": [
      "TITLE: Data Scientist\n",
      "LOCATION: Sukkur\n",
      "SALARY: 120000\n"
     ]
    }
   ],
   "source": [
    "job_1.printInfo()"
   ]
  },
  {
   "cell_type": "code",
   "execution_count": 45,
   "metadata": {},
   "outputs": [
    {
     "data": {
      "text/plain": [
       "True"
      ]
     },
     "execution_count": 45,
     "metadata": {},
     "output_type": "execute_result"
    }
   ],
   "source": [
    "True and True"
   ]
  },
  {
   "cell_type": "code",
   "execution_count": 46,
   "metadata": {},
   "outputs": [
    {
     "data": {
      "text/plain": [
       "False"
      ]
     },
     "execution_count": 46,
     "metadata": {},
     "output_type": "execute_result"
    }
   ],
   "source": [
    "True and False"
   ]
  },
  {
   "cell_type": "code",
   "execution_count": 47,
   "metadata": {},
   "outputs": [
    {
     "data": {
      "text/plain": [
       "True"
      ]
     },
     "execution_count": 47,
     "metadata": {},
     "output_type": "execute_result"
    }
   ],
   "source": [
    "True or True"
   ]
  },
  {
   "cell_type": "code",
   "execution_count": 48,
   "metadata": {},
   "outputs": [
    {
     "data": {
      "text/plain": [
       "True"
      ]
     },
     "execution_count": 48,
     "metadata": {},
     "output_type": "execute_result"
    }
   ],
   "source": [
    "True or False"
   ]
  },
  {
   "cell_type": "code",
   "execution_count": 49,
   "metadata": {},
   "outputs": [
    {
     "data": {
      "text/plain": [
       "False"
      ]
     },
     "execution_count": 49,
     "metadata": {},
     "output_type": "execute_result"
    }
   ],
   "source": [
    "\"data\" in \"Data Nerd\""
   ]
  },
  {
   "cell_type": "code",
   "execution_count": 50,
   "metadata": {},
   "outputs": [
    {
     "data": {
      "text/plain": [
       "True"
      ]
     },
     "execution_count": 50,
     "metadata": {},
     "output_type": "execute_result"
    }
   ],
   "source": [
    "\"data\" in \"Data Nerd\".lower()"
   ]
  },
  {
   "cell_type": "code",
   "execution_count": 51,
   "metadata": {},
   "outputs": [],
   "source": [
    "job_roles = [\n",
    "    {'role': 'Data Analyst', 'skills': ['Python', 'SQL', 'Excel']},\n",
    "    {'role': 'Data Scientist', 'skills': ['Python', 'R', 'Machine Learning', 'Deep Learning']},\n",
    "    {'role': 'Machine Learning Engineer', 'skills': ['Python', 'TensorFlow', 'PyTorch', 'Scikit-Learn']},\n",
    "    {'role': 'Data Engineer', 'skills': ['Python', 'Apache Spark', 'Hadoop', 'SQL']},\n",
    "    {'role': 'Business Intelligence Analyst', 'skills': ['Python', 'SQL', 'Tableau', 'Power BI', 'Excel']},\n",
    "    {'role': 'Quantitative Analyst', 'skills': ['R', 'Python', 'MATLAB', 'Statistics']},\n",
    "    {'role': 'Operations Analyst', 'skills': ['Python', 'SQL', 'Data Visualization', 'Process Improvement']},\n",
    "    {'role': 'Database Administrator', 'skills': ['SQL', 'Oracle', 'MySQL', 'Database Management']},\n",
    "    {'role': 'AI Engineer', 'skills': ['Python', 'TensorFlow', 'PyTorch', 'Computer Vision']},\n",
    "    {'role': 'Statistician', 'skills': ['R', 'SAS', 'Python', 'Statistical Modeling']}\n",
    "]"
   ]
  },
  {
   "cell_type": "code",
   "execution_count": 52,
   "metadata": {},
   "outputs": [],
   "source": [
    "my_skills = [\"Python\", \"SQL\", \"Excel\"]\n",
    "qualifited_roles = []\n",
    "for job_role in job_roles:\n",
    "    job_skills = job_role[\"skills\"]\n",
    "    condition = [my_skill in job_skills for my_skill in my_skills]\n",
    "    if all(condition):\n",
    "        qualifited_roles.append(job_role[\"role\"])"
   ]
  },
  {
   "cell_type": "code",
   "execution_count": 53,
   "metadata": {},
   "outputs": [
    {
     "data": {
      "text/plain": [
       "['Data Analyst', 'Business Intelligence Analyst']"
      ]
     },
     "execution_count": 53,
     "metadata": {},
     "output_type": "execute_result"
    }
   ],
   "source": [
    "qualifited_roles"
   ]
  },
  {
   "cell_type": "code",
   "execution_count": 54,
   "metadata": {},
   "outputs": [
    {
     "data": {
      "text/plain": [
       "['Data Analyst', 'Business Intelligence Analyst']"
      ]
     },
     "execution_count": 54,
     "metadata": {},
     "output_type": "execute_result"
    }
   ],
   "source": [
    "my_skills = [\"Python\", \"SQL\", \"Excel\"]\n",
    "q_r = [job_role[\"role\"] for job_role in job_roles if all(my_skill in job_role[\"skills\"] for my_skill in my_skills)]\n",
    "q_r"
   ]
  },
  {
   "cell_type": "code",
   "execution_count": 55,
   "metadata": {},
   "outputs": [],
   "source": [
    "mul_four = lambda x : x * 4"
   ]
  },
  {
   "cell_type": "code",
   "execution_count": 56,
   "metadata": {},
   "outputs": [
    {
     "data": {
      "text/plain": [
       "20"
      ]
     },
     "execution_count": 56,
     "metadata": {},
     "output_type": "execute_result"
    }
   ],
   "source": [
    "mul_four(5)"
   ]
  },
  {
   "cell_type": "code",
   "execution_count": 57,
   "metadata": {},
   "outputs": [],
   "source": [
    "job_roles = [\n",
    "    {\n",
    "        \"job_title\": \"Data Scientist\",\n",
    "        \"skills\": [\n",
    "            \"Python\",\n",
    "            \"R\",\n",
    "            \"SQL\",\n",
    "            \"Machine Learning\",\n",
    "            \"Data Visualization\",\n",
    "            \"Statistical Analysis\",\n",
    "            \"Big Data tools (Hadoop, Spark)\"\n",
    "        ],\n",
    "        \"remote_possible\": True\n",
    "    },\n",
    "    {\n",
    "        \"job_title\": \"Machine Learning Engineer\",\n",
    "        \"skills\": [\n",
    "            \"Python\",\n",
    "            \"TensorFlow\",\n",
    "            \"PyTorch\",\n",
    "            \"Deep Learning\",\n",
    "            \"Model Deployment\",\n",
    "            \"Cloud Services (AWS, GCP, Azure)\",\n",
    "            \"Algorithm Design\"\n",
    "        ],\n",
    "        \"remote_possible\": True\n",
    "    },\n",
    "    {\n",
    "        \"job_title\": \"Data Engineer\",\n",
    "        \"skills\": [\n",
    "            \"SQL\",\n",
    "            \"ETL Pipelines\",\n",
    "            \"Python\",\n",
    "            \"Big Data Technologies (Hadoop, Spark)\",\n",
    "            \"Data Warehousing\",\n",
    "            \"Cloud Platforms (AWS, GCP)\",\n",
    "            \"Database Management (MySQL, PostgreSQL)\"\n",
    "        ],\n",
    "        \"remote_possible\": True\n",
    "    },\n",
    "    {\n",
    "        \"job_title\": \"AI Research Scientist\",\n",
    "        \"skills\": [\n",
    "            \"Python\",\n",
    "            \"Deep Learning\",\n",
    "            \"Reinforcement Learning\",\n",
    "            \"Natural Language Processing\",\n",
    "            \"TensorFlow\",\n",
    "            \"PyTorch\",\n",
    "            \"Academic Research\",\n",
    "            \"Mathematics\"\n",
    "        ],\n",
    "        \"remote_possible\": False\n",
    "    },\n",
    "    {\n",
    "        \"job_title\": \"Business Intelligence Analyst\",\n",
    "        \"skills\": [\n",
    "            \"SQL\",\n",
    "            \"Data Visualization (Tableau, Power BI)\",\n",
    "            \"Data Analysis\",\n",
    "            \"Excel\",\n",
    "            \"Python (or R)\",\n",
    "            \"Business Strategy\",\n",
    "            \"Reporting Tools\"\n",
    "        ],\n",
    "        \"remote_possible\": True\n",
    "    },\n",
    "    {\n",
    "        \"job_title\": \"Data Analyst\",\n",
    "        \"skills\": [\n",
    "            \"Excel\",\n",
    "            \"Python\",\n",
    "            \"SQL\",\n",
    "            \"Data Visualization (Tableau, Power BI)\",\n",
    "            \"Statistical Analysis\",\n",
    "            \"Data Cleaning\",\n",
    "            \"Reporting\"\n",
    "        ],\n",
    "        \"remote_possible\": True\n",
    "    },\n",
    "    {\n",
    "        \"job_title\": \"DevOps Engineer (Machine Learning Focus)\",\n",
    "        \"skills\": [\n",
    "            \"CI/CD\",\n",
    "            \"Containerization (Docker, Kubernetes)\",\n",
    "            \"Cloud Services (AWS, GCP)\",\n",
    "            \"Model Deployment\",\n",
    "            \"Python\",\n",
    "            \"Infrastructure as Code (Terraform, Ansible)\"\n",
    "        ],\n",
    "        \"remote_possible\": True\n",
    "    },\n",
    "    {\n",
    "        \"job_title\": \"AI Product Manager\",\n",
    "        \"skills\": [\n",
    "            \"Project Management\",\n",
    "            \"Machine Learning Concepts\",\n",
    "            \"Data-Driven Decision Making\",\n",
    "            \"Stakeholder Communication\",\n",
    "            \"Product Roadmap Design\",\n",
    "            \"Python (basic understanding)\",\n",
    "            \"Agile Methodology\"\n",
    "        ],\n",
    "        \"remote_possible\": False\n",
    "    },\n",
    "    {\n",
    "        \"job_title\": \"Natural Language Processing (NLP) Engineer\",\n",
    "        \"skills\": [\n",
    "            \"Python\",\n",
    "            \"NLP Libraries (spaCy, NLTK)\",\n",
    "            \"Deep Learning (RNNs, Transformers)\",\n",
    "            \"Text Preprocessing\",\n",
    "            \"Data Wrangling\",\n",
    "            \"Language Modeling\"\n",
    "        ],\n",
    "        \"remote_possible\": True\n",
    "    },\n",
    "    {\n",
    "        \"job_title\": \"Data Architect\",\n",
    "        \"skills\": [\n",
    "            \"Database Design\",\n",
    "            \"Cloud Data Solutions (AWS, GCP)\",\n",
    "            \"SQL\",\n",
    "            \"Data Security\",\n",
    "            \"Data Modeling\",\n",
    "            \"Big Data Tools (Hadoop, Spark)\",\n",
    "            \"ETL Processes\"\n",
    "        ],\n",
    "        \"remote_possible\": False\n",
    "    },\n",
    "    {\n",
    "        \"job_title\": \"Quantitative Analyst (Quant)\",\n",
    "        \"skills\": [\n",
    "            \"Mathematics\",\n",
    "            \"Statistics\",\n",
    "            \"Python\",\n",
    "            \"R\",\n",
    "            \"Financial Modeling\",\n",
    "            \"Algorithmic Trading\",\n",
    "            \"Risk Management\"\n",
    "        ],\n",
    "        \"remote_possible\": False\n",
    "    }\n",
    "]\n"
   ]
  },
  {
   "cell_type": "code",
   "execution_count": 58,
   "metadata": {},
   "outputs": [
    {
     "data": {
      "text/plain": [
       "{'job_title': 'Data Scientist',\n",
       " 'skills': ['Python',\n",
       "  'R',\n",
       "  'SQL',\n",
       "  'Machine Learning',\n",
       "  'Data Visualization',\n",
       "  'Statistical Analysis',\n",
       "  'Big Data tools (Hadoop, Spark)'],\n",
       " 'remote_possible': True}"
      ]
     },
     "execution_count": 58,
     "metadata": {},
     "output_type": "execute_result"
    }
   ],
   "source": [
    "job_roles[0]"
   ]
  },
  {
   "cell_type": "code",
   "execution_count": 59,
   "metadata": {},
   "outputs": [
    {
     "data": {
      "text/plain": [
       "11"
      ]
     },
     "execution_count": 59,
     "metadata": {},
     "output_type": "execute_result"
    }
   ],
   "source": [
    "len(job_roles)"
   ]
  },
  {
   "cell_type": "code",
   "execution_count": 60,
   "metadata": {},
   "outputs": [
    {
     "data": {
      "text/plain": [
       "6"
      ]
     },
     "execution_count": 60,
     "metadata": {},
     "output_type": "execute_result"
    }
   ],
   "source": [
    "filtered_job_list = list(filter((lambda job_role:(job_role[\"remote_possible\"]==True) and  (\"Python\" in job_role[\"skills\"])), job_roles))\n",
    "len(filtered_job_list)"
   ]
  },
  {
   "cell_type": "code",
   "execution_count": 61,
   "metadata": {},
   "outputs": [],
   "source": [
    "# 3:12:49 / 11:09:40"
   ]
  },
  {
   "cell_type": "code",
   "execution_count": 62,
   "metadata": {},
   "outputs": [],
   "source": [
    "from modules import greet"
   ]
  },
  {
   "cell_type": "code",
   "execution_count": 63,
   "metadata": {},
   "outputs": [
    {
     "name": "stdout",
     "output_type": "stream",
     "text": [
      "Welcome!\n"
     ]
    }
   ],
   "source": [
    "greet()"
   ]
  },
  {
   "cell_type": "code",
   "execution_count": 64,
   "metadata": {},
   "outputs": [],
   "source": [
    "job_roles = [\n",
    "    {\n",
    "        \"job_title\": \"Data Scientist\",\n",
    "        \"job_skill\": '[\"Python\", \"R\", \"SQL\", \"Machine Learning\", \"Data Visualization\", \"Statistical Analysis\", \"Big Data tools (Hadoop, Spark)\"]',\n",
    "        \"job_date\": \"2024-09-25\"\n",
    "    },\n",
    "    {\n",
    "        \"job_title\": \"Machine Learning Engineer\",\n",
    "        \"job_skill\": '[\"Python\", \"TensorFlow\", \"PyTorch\", \"Deep Learning\", \"Model Deployment\", \"Cloud Services (AWS, GCP, Azure)\", \"Algorithm Design\"]',\n",
    "        \"job_date\": \"2024-08-15\"\n",
    "    },\n",
    "    {\n",
    "        \"job_title\": \"Data Engineer\",\n",
    "        \"job_skill\": '[\"SQL\", \"ETL Pipelines\", \"Python\", \"Big Data Technologies (Hadoop, Spark)\", \"Data Warehousing\", \"Cloud Platforms (AWS, GCP)\", \"Database Management (MySQL, PostgreSQL)\"]',\n",
    "        \"job_date\": \"2024-07-10\"\n",
    "    },\n",
    "    {\n",
    "        \"job_title\": \"AI Research Scientist\",\n",
    "        \"job_skill\": '[\"Python\", \"Deep Learning\", \"Reinforcement Learning\", \"Natural Language Processing\", \"TensorFlow\", \"PyTorch\", \"Academic Research\", \"Mathematics\"]',\n",
    "        \"job_date\": \"2024-06-01\"\n",
    "    },\n",
    "    {\n",
    "        \"job_title\": \"Business Intelligence Analyst\",\n",
    "        \"job_skill\": '[\"SQL\", \"Data Visualization (Tableau, Power BI)\", \"Data Analysis\", \"Excel\", \"Python (or R)\", \"Business Strategy\", \"Reporting Tools\"]',\n",
    "        \"job_date\": \"2024-05-20\"\n",
    "    },\n",
    "    {\n",
    "        \"job_title\": \"Data Analyst\",\n",
    "        \"job_skill\": '[\"Excel\", \"Python\", \"SQL\", \"Data Visualization (Tableau, Power BI)\", \"Statistical Analysis\", \"Data Cleaning\", \"Reporting\"]',\n",
    "        \"job_date\": \"2024-05-15\"\n",
    "    },\n",
    "    {\n",
    "        \"job_title\": \"DevOps Engineer (Machine Learning Focus)\",\n",
    "        \"job_skill\": '[\"CI/CD\", \"Containerization (Docker, Kubernetes)\", \"Cloud Services (AWS, GCP)\", \"Model Deployment\", \"Python\", \"Infrastructure as Code (Terraform, Ansible)\"]',\n",
    "        \"job_date\": \"2024-04-22\"\n",
    "    },\n",
    "    {\n",
    "        \"job_title\": \"AI Product Manager\",\n",
    "        \"job_skill\": '[\"Project Management\", \"Machine Learning Concepts\", \"Data-Driven Decision Making\", \"Stakeholder Communication\", \"Product Roadmap Design\", \"Python (basic understanding)\", \"Agile Methodology\"]',\n",
    "        \"job_date\": \"2024-03-18\"\n",
    "    },\n",
    "    {\n",
    "        \"job_title\": \"Natural Language Processing (NLP) Engineer\",\n",
    "        \"job_skill\": '[\"Python\", \"NLP Libraries (spaCy, NLTK)\", \"Deep Learning (RNNs, Transformers)\", \"Text Preprocessing\", \"Data Wrangling\", \"Language Modeling\"]',\n",
    "        \"job_date\": \"2024-02-28\"\n",
    "    },\n",
    "    {\n",
    "        \"job_title\": \"Data Architect\",\n",
    "        \"job_skill\": '[\"Database Design\", \"Cloud Data Solutions (AWS, GCP)\", \"SQL\", \"Data Security\", \"Data Modeling\", \"Big Data Tools (Hadoop, Spark)\", \"ETL Processes\"]',\n",
    "        \"job_date\": \"2024-01-12\"\n",
    "    }\n",
    "]\n"
   ]
  }
 ],
 "metadata": {
  "kernelspec": {
   "display_name": "env_Bilingual",
   "language": "python",
   "name": "python3"
  },
  "language_info": {
   "codemirror_mode": {
    "name": "ipython",
    "version": 3
   },
   "file_extension": ".py",
   "mimetype": "text/x-python",
   "name": "python",
   "nbconvert_exporter": "python",
   "pygments_lexer": "ipython3",
   "version": "3.11.10"
  }
 },
 "nbformat": 4,
 "nbformat_minor": 2
}
