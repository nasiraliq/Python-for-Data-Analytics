{
 "cells": [
  {
   "cell_type": "code",
   "execution_count": null,
   "metadata": {},
   "outputs": [],
   "source": [
    "def solution(digits : str, nums: str) -> int:\n",
    "    digits_positions = {digit:i for i,digit in enumerate(digits)}\n",
    "    \n",
    "    current_position = 0\n",
    "    time_took = 0\n",
    "    \n",
    "    for digit in nums:\n",
    "        time_took = time_took + abs(digits_positions[digit] - current_position)\n",
    "        current_position = digits_positions[digit]\n",
    "    \n",
    "    return time_took"
   ]
  },
  {
   "cell_type": "code",
   "execution_count": 36,
   "metadata": {},
   "outputs": [
    {
     "data": {
      "text/plain": [
       "4"
      ]
     },
     "execution_count": 36,
     "metadata": {},
     "output_type": "execute_result"
    }
   ],
   "source": [
    "digits = \"0123456789\"\n",
    "nums = \"210\"\n",
    "solution(digits, nums)"
   ]
  },
  {
   "cell_type": "code",
   "execution_count": 37,
   "metadata": {},
   "outputs": [
    {
     "data": {
      "text/plain": [
       "17"
      ]
     },
     "execution_count": 37,
     "metadata": {},
     "output_type": "execute_result"
    }
   ],
   "source": [
    "digits = \"8459761203\"\n",
    "nums = \"5439\"\n",
    "solution(digits, nums)"
   ]
  },
  {
   "cell_type": "code",
   "execution_count": null,
   "metadata": {},
   "outputs": [],
   "source": []
  },
  {
   "cell_type": "code",
   "execution_count": null,
   "metadata": {},
   "outputs": [],
   "source": [
    "# Good and God\n",
    "# Listen and Silent\n",
    "# Angel and Angle\n",
    "# Heart and Earth\n",
    "# Stressed and Desserts\n",
    "# Stone and Notes\n",
    "# Spot and Stop\n",
    "# Dusty and Study\n",
    "# Save and Vase\n",
    "# Act and Cat"
   ]
  },
  {
   "cell_type": "code",
   "execution_count": null,
   "metadata": {},
   "outputs": [
    {
     "name": "stdout",
     "output_type": "stream",
     "text": [
      "[('I', 'feel'), ('I', 'both'), ('I', 'stressed'), ('I', 'and'), ('I', 'inspired,'), ('I', 'like'), ('I', 'when'), ('I', 'find'), ('I', 'a'), ('I', 'stone'), ('I', 'that'), ('I', 'resembles'), ('I', 'earth'), ('I', 'or'), ('I', 'a'), ('I', 'forgotten'), ('I', 'note'), ('I', 'in'), ('I', 'my'), ('I', 'pocket,'), ('I', 'and'), ('I', 'remember'), ('I', 'to'), ('I', 'stop'), ('I', 'studying'), ('I', 'so'), ('I', 'hard'), ('I', 'to'), ('I', 'enjoy'), ('I', 'the'), ('I', 'little'), ('I', 'things,'), ('I', 'like'), ('I', 'arranging'), ('I', 'flowers'), ('I', 'in'), ('I', 'a'), ('I', 'vase.'), ('to', 'stop'), ('to', 'studying'), ('to', 'so'), ('to', 'hard'), ('to', 'enjoy'), ('to', 'the'), ('to', 'little'), ('to', 'things,'), ('to', 'like'), ('to', 'arranging'), ('to', 'flowers'), ('to', 'in'), ('to', 'a'), ('to', 'vase.'), ('my', 'pocket,'), ('my', 'and'), ('my', 'I'), ('my', 'remember'), ('my', 'to'), ('my', 'stop'), ('my', 'studying'), ('my', 'so'), ('my', 'hard'), ('my', 'to'), ('my', 'enjoy'), ('my', 'the'), ('my', 'little'), ('my', 'things,'), ('my', 'like'), ('my', 'arranging'), ('my', 'flowers'), ('my', 'in'), ('my', 'a'), ('my', 'vase.'), ('I', 'feel'), ('I', 'both'), ('I', 'stressed'), ('I', 'and'), ('I', 'inspired,'), ('I', 'like'), ('I', 'when'), ('I', 'find'), ('I', 'a'), ('I', 'stone'), ('I', 'that'), ('I', 'resembles'), ('I', 'earth'), ('I', 'or'), ('I', 'a'), ('I', 'forgotten'), ('I', 'note'), ('I', 'in'), ('I', 'my'), ('I', 'pocket,'), ('I', 'and'), ('I', 'remember'), ('I', 'to'), ('I', 'stop'), ('I', 'studying'), ('I', 'so'), ('I', 'hard'), ('I', 'to'), ('I', 'enjoy'), ('I', 'the'), ('I', 'little'), ('I', 'things,'), ('I', 'like'), ('I', 'arranging'), ('I', 'flowers'), ('I', 'in'), ('I', 'a'), ('I', 'vase.'), ('and', 'I'), ('and', 'remember'), ('and', 'to'), ('and', 'stop'), ('and', 'studying'), ('and', 'so'), ('and', 'hard'), ('and', 'to'), ('and', 'enjoy'), ('and', 'the'), ('and', 'little'), ('and', 'things,'), ('and', 'like'), ('and', 'arranging'), ('and', 'flowers'), ('and', 'in'), ('and', 'a'), ('and', 'vase.'), ('like', 'arranging'), ('like', 'flowers'), ('like', 'in'), ('like', 'a'), ('like', 'vase.'), ('I', 'feel'), ('I', 'both'), ('I', 'stressed'), ('I', 'and'), ('I', 'inspired,'), ('I', 'like'), ('I', 'when'), ('I', 'find'), ('I', 'a'), ('I', 'stone'), ('I', 'that'), ('I', 'resembles'), ('I', 'earth'), ('I', 'or'), ('I', 'a'), ('I', 'forgotten'), ('I', 'note'), ('I', 'in'), ('I', 'my'), ('I', 'pocket,'), ('I', 'and'), ('I', 'remember'), ('I', 'to'), ('I', 'stop'), ('I', 'studying'), ('I', 'so'), ('I', 'hard'), ('I', 'to'), ('I', 'enjoy'), ('I', 'the'), ('I', 'little'), ('I', 'things,'), ('I', 'like'), ('I', 'arranging'), ('I', 'flowers'), ('I', 'in'), ('I', 'a'), ('I', 'vase.'), ('a', 'forgotten'), ('a', 'note'), ('a', 'in'), ('a', 'my'), ('a', 'pocket,'), ('a', 'and'), ('a', 'I'), ('a', 'remember'), ('a', 'to'), ('a', 'stop'), ('a', 'studying'), ('a', 'so'), ('a', 'hard'), ('a', 'to'), ('a', 'enjoy'), ('a', 'the'), ('a', 'little'), ('a', 'things,'), ('a', 'like'), ('a', 'arranging'), ('a', 'flowers'), ('a', 'in'), ('a', 'vase.'), ('a', 'forgotten'), ('a', 'note'), ('a', 'in'), ('a', 'my'), ('a', 'pocket,'), ('a', 'and'), ('a', 'I'), ('a', 'remember'), ('a', 'to'), ('a', 'stop'), ('a', 'studying'), ('a', 'so'), ('a', 'hard'), ('a', 'to'), ('a', 'enjoy'), ('a', 'the'), ('a', 'little'), ('a', 'things,'), ('a', 'like'), ('a', 'arranging'), ('a', 'flowers'), ('a', 'in'), ('a', 'vase.'), ('in', 'a'), ('in', 'vase.'), ('my', 'pocket,'), ('my', 'and'), ('my', 'I'), ('my', 'remember'), ('my', 'to'), ('my', 'stop'), ('my', 'studying'), ('my', 'so'), ('my', 'hard'), ('my', 'to'), ('my', 'enjoy'), ('my', 'the'), ('my', 'little'), ('my', 'things,'), ('my', 'like'), ('my', 'arranging'), ('my', 'flowers'), ('my', 'in'), ('my', 'a'), ('my', 'vase.'), ('and', 'I'), ('and', 'remember'), ('and', 'to'), ('and', 'stop'), ('and', 'studying'), ('and', 'so'), ('and', 'hard'), ('and', 'to'), ('and', 'enjoy'), ('and', 'the'), ('and', 'little'), ('and', 'things,'), ('and', 'like'), ('and', 'arranging'), ('and', 'flowers'), ('and', 'in'), ('and', 'a'), ('and', 'vase.'), ('I', 'feel'), ('I', 'both'), ('I', 'stressed'), ('I', 'and'), ('I', 'inspired,'), ('I', 'like'), ('I', 'when'), ('I', 'find'), ('I', 'a'), ('I', 'stone'), ('I', 'that'), ('I', 'resembles'), ('I', 'earth'), ('I', 'or'), ('I', 'a'), ('I', 'forgotten'), ('I', 'note'), ('I', 'in'), ('I', 'my'), ('I', 'pocket,'), ('I', 'and'), ('I', 'remember'), ('I', 'to'), ('I', 'stop'), ('I', 'studying'), ('I', 'so'), ('I', 'hard'), ('I', 'to'), ('I', 'enjoy'), ('I', 'the'), ('I', 'little'), ('I', 'things,'), ('I', 'like'), ('I', 'arranging'), ('I', 'flowers'), ('I', 'in'), ('I', 'a'), ('I', 'vase.'), ('to', 'stop'), ('to', 'studying'), ('to', 'so'), ('to', 'hard'), ('to', 'enjoy'), ('to', 'the'), ('to', 'little'), ('to', 'things,'), ('to', 'like'), ('to', 'arranging'), ('to', 'flowers'), ('to', 'in'), ('to', 'a'), ('to', 'vase.'), ('to', 'stop'), ('to', 'studying'), ('to', 'so'), ('to', 'hard'), ('to', 'enjoy'), ('to', 'the'), ('to', 'little'), ('to', 'things,'), ('to', 'like'), ('to', 'arranging'), ('to', 'flowers'), ('to', 'in'), ('to', 'a'), ('to', 'vase.'), ('like', 'arranging'), ('like', 'flowers'), ('like', 'in'), ('like', 'a'), ('like', 'vase.'), ('in', 'a'), ('in', 'vase.'), ('a', 'forgotten'), ('a', 'note'), ('a', 'in'), ('a', 'my'), ('a', 'pocket,'), ('a', 'and'), ('a', 'I'), ('a', 'remember'), ('a', 'to'), ('a', 'stop'), ('a', 'studying'), ('a', 'so'), ('a', 'hard'), ('a', 'to'), ('a', 'enjoy'), ('a', 'the'), ('a', 'little'), ('a', 'things,'), ('a', 'like'), ('a', 'arranging'), ('a', 'flowers'), ('a', 'in'), ('a', 'vase.')]\n"
     ]
    }
   ],
   "source": [
    "# # sentence = \"Listen and Silent\"\n",
    "# sentence = \"As I listen to my heart, I feel both stressed and inspired, like when I find a stone that resembles earth or a forgotten note in my pocket, and I remember to stop studying so hard to enjoy the little things, like arranging flowers in a vase.\"\n",
    "# s_l = sentence.split()\n",
    "# commmon_words = []\n",
    "# for o_w in s_l:\n",
    "#     count = 0\n",
    "#     o_w_a = set(o_w.lower())\n",
    "#     # print(o_w)\n",
    "#     for w_in in s_l:\n",
    "#         w_in_a = set(w_in.lower())\n",
    "#         if o_w_a==w_in_a:\n",
    "#             count = count + 1\n",
    "#         if (count>=2) and (o_w!=w_in):\n",
    "#             commmon_words.append((o_w,w_in))\n",
    "        \n",
    "\n",
    "# print(commmon_words)"
   ]
  },
  {
   "cell_type": "code",
   "execution_count": 44,
   "metadata": {},
   "outputs": [
    {
     "name": "stdout",
     "output_type": "stream",
     "text": [
      "['listen', 'silent']\n"
     ]
    }
   ],
   "source": [
    "sentence = \"Listen and Silent\"\n",
    "commmon_words = []\n",
    "words = sentence.lower().split(sep=\" \")\n",
    "for o_index in range(len(words)):\n",
    "    for i_index in range(len(words)):\n",
    "        if (o_index!=i_index):\n",
    "            # print(o_index, i_index)\n",
    "            # print(set(words[o_index]), \" : \", set(words[i_index]))\n",
    "            if (set(words[o_index]) == set(words[i_index])):\n",
    "                commmon_words.append(words[o_index])\n",
    "                # commmon_words.append(words[i_index])\n",
    "print(commmon_words)"
   ]
  },
  {
   "cell_type": "code",
   "execution_count": 55,
   "metadata": {},
   "outputs": [
    {
     "name": "stdout",
     "output_type": "stream",
     "text": [
      "9\n"
     ]
    }
   ],
   "source": [
    "# sentence = \"As I listen to my heart, I feel both stressed and inspired, like when I find a stone that resembles earth or a forgotten note in my pocket, and I remember to stop studying so hard to enjoy the little things, like arranging flowers in a vase.\"\n",
    "sentence = \"Listen and Silent A B C Heart and Earth Stressed and Desserts Stone and Notes\"\n",
    "commmon_words = []\n",
    "words = sentence.lower().split(sep=\" \")\n",
    "for o_index in range(len(words)):\n",
    "    for i_index in range(len(words)):\n",
    "        if (o_index!=i_index):\n",
    "            # print(o_index, i_index)\n",
    "            # print(set(words[o_index]), \" : \", set(words[i_index]))\n",
    "            if (set(words[o_index]) == set(words[i_index])):\n",
    "                commmon_words.append(words[o_index])\n",
    "                # commmon_words.append(words[i_index])\n",
    "print(len(list(set(commmon_words))))"
   ]
  },
  {
   "cell_type": "code",
   "execution_count": 56,
   "metadata": {},
   "outputs": [
    {
     "data": {
      "text/plain": [
       "12"
      ]
     },
     "execution_count": 56,
     "metadata": {},
     "output_type": "execute_result"
    }
   ],
   "source": [
    "len(set(words))"
   ]
  }
 ],
 "metadata": {
  "kernelspec": {
   "display_name": "env_Bilingual",
   "language": "python",
   "name": "python3"
  },
  "language_info": {
   "codemirror_mode": {
    "name": "ipython",
    "version": 3
   },
   "file_extension": ".py",
   "mimetype": "text/x-python",
   "name": "python",
   "nbconvert_exporter": "python",
   "pygments_lexer": "ipython3",
   "version": "3.11.10"
  }
 },
 "nbformat": 4,
 "nbformat_minor": 2
}
